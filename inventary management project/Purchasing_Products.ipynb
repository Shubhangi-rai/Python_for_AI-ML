{
 "cells": [
  {
   "cell_type": "markdown",
   "metadata": {
    "id": "R6NHgAYkxqSl"
   },
   "source": [
    "## Read Inventory"
   ]
  },
  {
   "cell_type": "code",
   "execution_count": 18,
   "metadata": {
    "id": "jkJT24jqug9n"
   },
   "outputs": [],
   "source": [
    "import json\n",
    "\n",
    "fd = open(\"record.json\",'r')\n",
    "r = fd.read()\n",
    "fd.close()\n",
    "\n",
    "records = json.loads(r)"
   ]
  },
  {
   "cell_type": "code",
   "execution_count": 19,
   "metadata": {
    "colab": {
     "base_uri": "https://localhost:8080/"
    },
    "id": "CcLYokrlus6z",
    "outputId": "525ffebc-7e32-463b-b0a4-2e6e9fc73f7c"
   },
   "outputs": [
    {
     "data": {
      "text/plain": [
       "{'201': {'Name': 'Banana cake', 'Unit_price': 150, 'Instock': 12},\n",
       " '202': {'Name': 'Chocolate cake', 'Unit_price': 200, 'Instock': 18},\n",
       " '203': {'Name': 'Carrot cake', 'Unit_price': 100, 'Instock': 14},\n",
       " '204': {'Name': 'Lemon cake', 'Unit_price': 180, 'Instock': 11},\n",
       " '205': {'Name': 'Vanilla cakes', 'Unit_price': 130, 'Instock': 8},\n",
       " '206': {'Name': 'almond cake', 'Unit_price': 110, 'Instock': 1},\n",
       " '207': {'Name': 'Raspberry cake', 'Unit_price': 156, 'Instock': 4},\n",
       " '208': {'Name': 'Walnut cake', 'Unit_price': 157, 'Instock': 7},\n",
       " '209': {'Name': 'Orange cake', 'Unit_price': 189, 'Instock': 19},\n",
       " '2010': {'Name': 'Blueberry cake', 'Unit_price': 190, 'Instock': 23},\n",
       " '2011': {'Name': 'Cheese cake', 'Unit_price': 200, 'Instock': 16},\n",
       " '2012': {'Name': 'Apple cake', 'Unit_price': 378, 'Instock': 15},\n",
       " '2013': {'Name': 'Strawberry cake', 'Unit_price': 389, 'Instock': 22},\n",
       " '2014': {'Name': 'Marble cake', 'Unit_price': 245, 'Instock': 12},\n",
       " '2015': {'Name': 'Cinnamon tea cake', 'Unit_price': 145, 'Instock': 13},\n",
       " '2016': {'Name': 'Layered rainbow cake', 'Unit_price': 150, 'Instock': 18},\n",
       " '2017': {'Name': 'Black forest cake', 'Unit_price': 400, 'Instock': 42},\n",
       " '2018': {'Name': 'Jennys coffee cake', 'Unit_price': 500, 'Instock': 39},\n",
       " '2019': {'Name': 'Hummingbird cake', 'Unit_price': 675, 'Instock': 12},\n",
       " '2020': {'Name': 'Chocolate mud cake', 'Unit_price': 456, 'Instock': 12},\n",
       " '2021': {'Name': 'Red velvet cupcakes', 'Unit_price': 50, 'Instock': 50},\n",
       " '2022': {'Name': 'yoghurt cake', 'Unit_price': 345, 'Instock': 12},\n",
       " '2023': {'Name': 'Honey cake', 'Unit_price': 130, 'Instock': 38},\n",
       " '2024': {'Name': 'Fruitcake', 'Unit_price': 150, 'Instock': 12},\n",
       " '2025': {'Name': 'pineapple cake', 'Unit_price': 400, 'Instock': 56},\n",
       " '2026': {'Name': 'cheese cupcake', 'Unit_price': 677, 'Instock': 45},\n",
       " '2027': {'Name': 'Funfetti cake', 'Unit_price': 300, 'Instock': 34},\n",
       " '2029': {'Name': 'Coffee Cake', 'Unit_price': 458, 'Instock': 1},\n",
       " '2030': {'Name': 'blackberry Cake', 'Unit_price': 574, 'Instock': 2},\n",
       " '2031': {'Name': 'mango cake',\n",
       "  'Unit_price': 329,\n",
       "  'Instock': 34,\n",
       "  'unit_price': 277}}"
      ]
     },
     "execution_count": 19,
     "metadata": {},
     "output_type": "execute_result"
    }
   ],
   "source": [
    "records"
   ]
  },
  {
   "cell_type": "markdown",
   "metadata": {
    "id": "WI5f7HTuxwzb"
   },
   "source": [
    "## Purchase"
   ]
  },
  {
   "cell_type": "code",
   "execution_count": 26,
   "metadata": {
    "colab": {
     "base_uri": "https://localhost:8080/"
    },
    "id": "c4E4eIvyuth0",
    "outputId": "91896933-af33-4e3e-ad2b-478c1243c6a3"
   },
   "outputs": [
    {
     "name": "stdout",
     "output_type": "stream",
     "text": [
      "Enter the product_Id: 2031\n",
      "Enter the quantity: 6\n",
      "Product Name:  mango cake\n",
      "Price :  329\n",
      "Billing Amount:  1974\n"
     ]
    }
   ],
   "source": [
    "prod_id  = str(input(\"Enter the product_Id: \"))\n",
    "quantity  =  int(input(\"Enter the quantity: \"))\n",
    "\n",
    "if prod_id in records.keys():\n",
    "    if (records[prod_id]['Instock'] >= quantity ):\n",
    "        print(\"Product Name: \", records[prod_id]['Name'])\n",
    "        print(\"Price : \", records[prod_id]['Unit_price'])\n",
    "        print(\"Billing Amount: \", records[prod_id]['Unit_price'] * quantity)\n",
    "        records[prod_id]['Instock'] = records[prod_id]['Unit_price'] -quantity\n",
    "    else:\n",
    "        print(\"Don't have that much quantity\")\n",
    "else:\n",
    "    print(\"please enter a valid product id\")\n",
    "\n"
   ]
  },
  {
   "cell_type": "markdown",
   "metadata": {
    "id": "3h8S8JBVx1_D"
   },
   "source": [
    "## Update Inventory after purchase"
   ]
  },
  {
   "cell_type": "code",
   "execution_count": 27,
   "metadata": {
    "id": "TO68fUvvwzXt"
   },
   "outputs": [],
   "source": [
    "js = json.dumps(records)\n",
    "\n",
    "fd = open(\"record.json\",'w')\n",
    "fd.write(js)\n",
    "fd.close()"
   ]
  },
  {
   "cell_type": "markdown",
   "metadata": {
    "id": "pl_p5yDpyu_9"
   },
   "source": [
    "## Sales JSON"
   ]
  },
  {
   "cell_type": "code",
   "execution_count": 33,
   "metadata": {
    "colab": {
     "base_uri": "https://localhost:8080/"
    },
    "id": "FwBezn_LxBV4",
    "outputId": "e1fb37d9-17c3-4cde-de23-4f9057e74203"
   },
   "outputs": [
    {
     "data": {
      "text/plain": [
       "{'product': '2031', 'quantity': 6, 'amount': 1974}"
      ]
     },
     "execution_count": 33,
     "metadata": {},
     "output_type": "execute_result"
    }
   ],
   "source": [
    "{'product' : prod_id, 'quantity' : quantity, 'amount': records[prod_id]['Unit_price'] * quantity}"
   ]
  },
  {
   "cell_type": "code",
   "execution_count": 34,
   "metadata": {
    "colab": {
     "base_uri": "https://localhost:8080/",
     "height": 52
    },
    "id": "LRbOdbiUycNe",
    "outputId": "d2f68e95-b223-4d6b-f3f0-155466fc18a0"
   },
   "outputs": [],
   "source": [
    "sale = json.dumps(sales)"
   ]
  },
  {
   "cell_type": "code",
   "execution_count": 35,
   "metadata": {},
   "outputs": [],
   "source": [
    "\n",
    "fd = open('sales.json','w')\n",
    "fd.write(sale)\n",
    "fd.close()"
   ]
  },
  {
   "cell_type": "code",
   "execution_count": null,
   "metadata": {},
   "outputs": [],
   "source": []
  }
 ],
 "metadata": {
  "colab": {
   "name": "Purchasing Products",
   "provenance": []
  },
  "kernelspec": {
   "display_name": "Python 3",
   "language": "python",
   "name": "python3"
  },
  "language_info": {
   "codemirror_mode": {
    "name": "ipython",
    "version": 3
   },
   "file_extension": ".py",
   "mimetype": "text/x-python",
   "name": "python",
   "nbconvert_exporter": "python",
   "pygments_lexer": "ipython3",
   "version": "3.8.8"
  }
 },
 "nbformat": 4,
 "nbformat_minor": 1
}
