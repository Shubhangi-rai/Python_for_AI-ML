{
 "cells": [
  {
   "cell_type": "markdown",
   "metadata": {
    "id": "j9rSMgKytN9V"
   },
   "source": [
    "## Read Data from JSON"
   ]
  },
  {
   "cell_type": "code",
   "execution_count": 1,
   "metadata": {
    "id": "wlQdKmzYpRok"
   },
   "outputs": [],
   "source": [
    "import json\n",
    "fd = open(\"record.json\",'r')\n",
    "r = fd.read()\n",
    "fd.close()\n",
    "\n",
    "record = json.loads(r)"
   ]
  },
  {
   "cell_type": "code",
   "execution_count": 2,
   "metadata": {
    "colab": {
     "base_uri": "https://localhost:8080/"
    },
    "id": "N8fCrfQHqlUN",
    "outputId": "04f7a640-bbad-429c-d7d1-686ca5ec14e2"
   },
   "outputs": [
    {
     "data": {
      "text/plain": [
       "{'201': {'Name': 'Banana cake', 'Unit_price': 150, 'Instock': 12},\n",
       " '202': {'Name': 'Chocolate cake', 'Unit_price': 200, 'Instock': 18},\n",
       " '203': {'Name': 'Carrot cake', 'Unit_price': 100, 'Instock': 14},\n",
       " '204': {'Name': 'Lemon cake', 'Unit_price': 180, 'Instock': 11},\n",
       " '205': {'Name': 'Vanilla cakes', 'Unit_price': 130, 'Instock': 8},\n",
       " '206': {'Name': 'almond cake', 'Unit_price': 110, 'Instock': 1},\n",
       " '207': {'Name': 'Raspberry cake', 'Unit_price': 156, 'Instock': 4},\n",
       " '208': {'Name': 'Walnut cake', 'Unit_price': 157, 'Instock': 7},\n",
       " '209': {'Name': 'Orange cake', 'Unit_price': 189, 'Instock': 19},\n",
       " '2010': {'Name': 'Blueberry cake', 'Unit_price': 190, 'Instock': 23},\n",
       " '2011': {'Name': 'Cheese cake', 'Unit_price': 200, 'Instock': 16},\n",
       " '2012': {'Name': 'Apple cake', 'Unit_price': 378, 'Instock': 15},\n",
       " '2013': {'Name': 'Strawberry cake', 'Unit_price': 389, 'Instock': 22},\n",
       " '2014': {'Name': 'Marble cake', 'Unit_price': 245, 'Instock': 12},\n",
       " '2015': {'Name': 'Cinnamon tea cake', 'Unit_price': 145, 'Instock': 13},\n",
       " '2016': {'Name': 'Layered rainbow cake', 'Unit_price': 150, 'Instock': 18},\n",
       " '2017': {'Name': 'Black forest cake', 'Unit_price': 400, 'Instock': 42},\n",
       " '2018': {'Name': 'Jennys coffee cake', 'Unit_price': 500, 'Instock': 39},\n",
       " '2019': {'Name': 'Hummingbird cake', 'Unit_price': 675, 'Instock': 12},\n",
       " '2020': {'Name': 'Chocolate mud cake', 'Unit_price': 456, 'Instock': 12},\n",
       " '2021': {'Name': 'Red velvet cupcakes', 'Unit_price': 50, 'Instock': 50},\n",
       " '2022': {'Name': 'yoghurt cake', 'Unit_price': 345, 'Instock': 12},\n",
       " '2023': {'Name': 'Honey cake', 'Unit_price': 130, 'Instock': 38},\n",
       " '2024': {'Name': 'Fruitcake', 'Unit_price': 150, 'Instock': 12},\n",
       " '2025': {'Name': 'pineapple cake', 'Unit_price': 400, 'Instock': 56},\n",
       " '2026': {'Name': 'cheese cupcake', 'Unit_price': 677, 'Instock': 45},\n",
       " '2027': {'Name': 'Funfetti cake', 'Unit_price': 300, 'Instock': 34},\n",
       " '2029': {'Name': 'Coffee Cake', 'Unit_price': 458, 'Instock': 1},\n",
       " '2030': {'Name': 'blackberry Cake', 'Unit_price': 574, 'Instock': 2}}"
      ]
     },
     "execution_count": 2,
     "metadata": {},
     "output_type": "execute_result"
    }
   ],
   "source": [
    "record"
   ]
  },
  {
   "cell_type": "markdown",
   "metadata": {
    "id": "fNniKChHtFsH"
   },
   "source": [
    "## Add New Item into Inventory"
   ]
  },
  {
   "cell_type": "code",
   "execution_count": 3,
   "metadata": {
    "colab": {
     "base_uri": "https://localhost:8080/"
    },
    "id": "f61BridoqxZN",
    "outputId": "4919a5d7-b839-41df-ec08-b4f39107e984"
   },
   "outputs": [
    {
     "name": "stdout",
     "output_type": "stream",
     "text": [
      "Enter product id:2031\n",
      "Enter name:mango cake\n",
      "Enter price:333\n",
      "Enter no. of item:34\n"
     ]
    }
   ],
   "source": [
    "prod_id = str(input(\"Enter product id:\"))\n",
    "name = str(input(\"Enter name:\"))\n",
    "unit_price = int(input(\"Enter price:\"))\n",
    "stock = int(input(\"Enter no. of item:\"))\n",
    "\n",
    "record[prod_id] = {'Name': name, 'Unit_price':unit_price , 'Instock': stock}\n",
    "\n",
    "js = json.dumps(record)\n",
    "\n",
    "fd = open(\"record.json\",'w')\n",
    "fd.write(js)\n",
    "fd.close()"
   ]
  },
  {
   "cell_type": "code",
   "execution_count": 4,
   "metadata": {},
   "outputs": [
    {
     "data": {
      "text/plain": [
       "{'201': {'Name': 'Banana cake', 'Unit_price': 150, 'Instock': 12},\n",
       " '202': {'Name': 'Chocolate cake', 'Unit_price': 200, 'Instock': 18},\n",
       " '203': {'Name': 'Carrot cake', 'Unit_price': 100, 'Instock': 14},\n",
       " '204': {'Name': 'Lemon cake', 'Unit_price': 180, 'Instock': 11},\n",
       " '205': {'Name': 'Vanilla cakes', 'Unit_price': 130, 'Instock': 8},\n",
       " '206': {'Name': 'almond cake', 'Unit_price': 110, 'Instock': 1},\n",
       " '207': {'Name': 'Raspberry cake', 'Unit_price': 156, 'Instock': 4},\n",
       " '208': {'Name': 'Walnut cake', 'Unit_price': 157, 'Instock': 7},\n",
       " '209': {'Name': 'Orange cake', 'Unit_price': 189, 'Instock': 19},\n",
       " '2010': {'Name': 'Blueberry cake', 'Unit_price': 190, 'Instock': 23},\n",
       " '2011': {'Name': 'Cheese cake', 'Unit_price': 200, 'Instock': 16},\n",
       " '2012': {'Name': 'Apple cake', 'Unit_price': 378, 'Instock': 15},\n",
       " '2013': {'Name': 'Strawberry cake', 'Unit_price': 389, 'Instock': 22},\n",
       " '2014': {'Name': 'Marble cake', 'Unit_price': 245, 'Instock': 12},\n",
       " '2015': {'Name': 'Cinnamon tea cake', 'Unit_price': 145, 'Instock': 13},\n",
       " '2016': {'Name': 'Layered rainbow cake', 'Unit_price': 150, 'Instock': 18},\n",
       " '2017': {'Name': 'Black forest cake', 'Unit_price': 400, 'Instock': 42},\n",
       " '2018': {'Name': 'Jennys coffee cake', 'Unit_price': 500, 'Instock': 39},\n",
       " '2019': {'Name': 'Hummingbird cake', 'Unit_price': 675, 'Instock': 12},\n",
       " '2020': {'Name': 'Chocolate mud cake', 'Unit_price': 456, 'Instock': 12},\n",
       " '2021': {'Name': 'Red velvet cupcakes', 'Unit_price': 50, 'Instock': 50},\n",
       " '2022': {'Name': 'yoghurt cake', 'Unit_price': 345, 'Instock': 12},\n",
       " '2023': {'Name': 'Honey cake', 'Unit_price': 130, 'Instock': 38},\n",
       " '2024': {'Name': 'Fruitcake', 'Unit_price': 150, 'Instock': 12},\n",
       " '2025': {'Name': 'pineapple cake', 'Unit_price': 400, 'Instock': 56},\n",
       " '2026': {'Name': 'cheese cupcake', 'Unit_price': 677, 'Instock': 45},\n",
       " '2027': {'Name': 'Funfetti cake', 'Unit_price': 300, 'Instock': 34},\n",
       " '2029': {'Name': 'Coffee Cake', 'Unit_price': 458, 'Instock': 1},\n",
       " '2030': {'Name': 'blackberry Cake', 'Unit_price': 574, 'Instock': 2},\n",
       " '2031': {'Name': 'mango cake', 'Unit_price': 333, 'Instock': 34}}"
      ]
     },
     "execution_count": 4,
     "metadata": {},
     "output_type": "execute_result"
    }
   ],
   "source": [
    "record"
   ]
  },
  {
   "cell_type": "code",
   "execution_count": 6,
   "metadata": {},
   "outputs": [],
   "source": [
    "del record['2031']"
   ]
  },
  {
   "cell_type": "code",
   "execution_count": 7,
   "metadata": {},
   "outputs": [
    {
     "data": {
      "text/plain": [
       "{'201': {'Name': 'Banana cake', 'Unit_price': 150, 'Instock': 12},\n",
       " '202': {'Name': 'Chocolate cake', 'Unit_price': 200, 'Instock': 18},\n",
       " '203': {'Name': 'Carrot cake', 'Unit_price': 100, 'Instock': 14},\n",
       " '204': {'Name': 'Lemon cake', 'Unit_price': 180, 'Instock': 11},\n",
       " '205': {'Name': 'Vanilla cakes', 'Unit_price': 130, 'Instock': 8},\n",
       " '206': {'Name': 'almond cake', 'Unit_price': 110, 'Instock': 1},\n",
       " '207': {'Name': 'Raspberry cake', 'Unit_price': 156, 'Instock': 4},\n",
       " '208': {'Name': 'Walnut cake', 'Unit_price': 157, 'Instock': 7},\n",
       " '209': {'Name': 'Orange cake', 'Unit_price': 189, 'Instock': 19},\n",
       " '2010': {'Name': 'Blueberry cake', 'Unit_price': 190, 'Instock': 23},\n",
       " '2011': {'Name': 'Cheese cake', 'Unit_price': 200, 'Instock': 16},\n",
       " '2012': {'Name': 'Apple cake', 'Unit_price': 378, 'Instock': 15},\n",
       " '2013': {'Name': 'Strawberry cake', 'Unit_price': 389, 'Instock': 22},\n",
       " '2014': {'Name': 'Marble cake', 'Unit_price': 245, 'Instock': 12},\n",
       " '2015': {'Name': 'Cinnamon tea cake', 'Unit_price': 145, 'Instock': 13},\n",
       " '2016': {'Name': 'Layered rainbow cake', 'Unit_price': 150, 'Instock': 18},\n",
       " '2017': {'Name': 'Black forest cake', 'Unit_price': 400, 'Instock': 42},\n",
       " '2018': {'Name': 'Jennys coffee cake', 'Unit_price': 500, 'Instock': 39},\n",
       " '2019': {'Name': 'Hummingbird cake', 'Unit_price': 675, 'Instock': 12},\n",
       " '2020': {'Name': 'Chocolate mud cake', 'Unit_price': 456, 'Instock': 12},\n",
       " '2021': {'Name': 'Red velvet cupcakes', 'Unit_price': 50, 'Instock': 50},\n",
       " '2022': {'Name': 'yoghurt cake', 'Unit_price': 345, 'Instock': 12},\n",
       " '2023': {'Name': 'Honey cake', 'Unit_price': 130, 'Instock': 38},\n",
       " '2024': {'Name': 'Fruitcake', 'Unit_price': 150, 'Instock': 12},\n",
       " '2025': {'Name': 'pineapple cake', 'Unit_price': 400, 'Instock': 56},\n",
       " '2026': {'Name': 'cheese cupcake', 'Unit_price': 677, 'Instock': 45},\n",
       " '2027': {'Name': 'Funfetti cake', 'Unit_price': 300, 'Instock': 34},\n",
       " '2029': {'Name': 'Coffee Cake', 'Unit_price': 458, 'Instock': 1},\n",
       " '2030': {'Name': 'blackberry Cake', 'Unit_price': 574, 'Instock': 2}}"
      ]
     },
     "execution_count": 7,
     "metadata": {},
     "output_type": "execute_result"
    }
   ],
   "source": [
    "record"
   ]
  },
  {
   "cell_type": "code",
   "execution_count": null,
   "metadata": {},
   "outputs": [],
   "source": []
  }
 ],
 "metadata": {
  "colab": {
   "name": "Adding new Products",
   "provenance": []
  },
  "kernelspec": {
   "display_name": "Python 3",
   "language": "python",
   "name": "python3"
  },
  "language_info": {
   "codemirror_mode": {
    "name": "ipython",
    "version": 3
   },
   "file_extension": ".py",
   "mimetype": "text/x-python",
   "name": "python",
   "nbconvert_exporter": "python",
   "pygments_lexer": "ipython3",
   "version": "3.8.8"
  }
 },
 "nbformat": 4,
 "nbformat_minor": 1
}
